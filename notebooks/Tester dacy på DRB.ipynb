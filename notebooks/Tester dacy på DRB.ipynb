{
 "cells": [
  {
   "cell_type": "code",
   "execution_count": 18,
   "id": "64669537-f215-4fb8-9b96-ff7b955ceef1",
   "metadata": {},
   "outputs": [],
   "source": [
    "import dacy\n",
    "from spacy import displacy"
   ]
  },
  {
   "cell_type": "markdown",
   "id": "9f6473e4-2a05-4ad5-a378-041418d320a2",
   "metadata": {},
   "source": [
    "Load standard-sprogmodellen for dansk, trænet af Aarhus Universitet"
   ]
  },
  {
   "cell_type": "code",
   "execution_count": 8,
   "id": "715e0ecc-7e13-4e5e-b28d-339db7eb7f41",
   "metadata": {},
   "outputs": [
    {
     "name": "stderr",
     "output_type": "stream",
     "text": [
      "/Users/nhs/miniconda3/envs/env_dacy/lib/python3.9/site-packages/spacy/util.py:833: UserWarning: [W095] Model 'da_dacy_medium_trf' (0.1.0) was trained with spaCy v3.1 and may not be 100% compatible with the current version (3.2.3). If you see errors or degraded performance, download a newer compatible model or retrain your custom model with the current spaCy version. For more details and available updates, run: python -m spacy validate\n",
      "  warnings.warn(warn_msg)\n"
     ]
    }
   ],
   "source": [
    "nlp = dacy.load(\"da_dacy_medium_trf-0.1.0\", \"/Users/nhs/Udvikling/models/dacy\")"
   ]
  },
  {
   "cell_type": "markdown",
   "id": "792d8bed-6520-4229-9219-dae8f9f7a9b8",
   "metadata": {},
   "source": [
    "Hent et test-dokument, lille uddrag fra Danmarks Riges Breve"
   ]
  },
  {
   "cell_type": "code",
   "execution_count": 4,
   "id": "32a9c7e5-5920-4c32-a959-1ad7f6e1f0cc",
   "metadata": {},
   "outputs": [],
   "source": [
    "input_filepath = '/Users/nhs/Arkiv/dipdan/03_08_drb_test.txt'"
   ]
  },
  {
   "cell_type": "code",
   "execution_count": 11,
   "id": "3f15740c-aeb8-4cd2-b1d7-555dc85490a4",
   "metadata": {},
   "outputs": [],
   "source": [
    "with open(input_filepath) as f:\n",
    "    texts = f.readlines()"
   ]
  },
  {
   "cell_type": "markdown",
   "id": "5c639b5d-0758-4a70-afd3-b1d642b2316c",
   "metadata": {},
   "source": [
    "# Test et par typografiske afsnit"
   ]
  },
  {
   "cell_type": "markdown",
   "id": "68e72a0b-e27e-493a-a73b-1a9e65801196",
   "metadata": {},
   "source": [
    "doc1 = Kort typografisk afsnit; doc2 = Langt typografisk afsnit"
   ]
  },
  {
   "cell_type": "code",
   "execution_count": 32,
   "id": "3071b92d-c52f-4411-bfe3-df26588f45bb",
   "metadata": {},
   "outputs": [],
   "source": [
    "doc1 = nlp(texts[3])\n",
    "doc2 = nlp(texts[1])"
   ]
  },
  {
   "cell_type": "code",
   "execution_count": 33,
   "id": "433310e7-d8d8-4f06-8b36-f41b07c9131a",
   "metadata": {},
   "outputs": [
    {
     "data": {
      "text/plain": [
       "Johan v. Hameln og Johan Hoppener går i borgen for en henvendelse fra staden Stralsund til rådmændene i Trelleborg angående Henrik Hogedorps gods."
      ]
     },
     "execution_count": 33,
     "metadata": {},
     "output_type": "execute_result"
    }
   ],
   "source": [
    "doc1"
   ]
  },
  {
   "cell_type": "code",
   "execution_count": 34,
   "id": "6e22e74e-5695-4a38-9769-6d5fabd16e31",
   "metadata": {},
   "outputs": [
    {
     "data": {
      "text/plain": [
       "I skal vide, at da den stormægtige fyrste Valdemar, de Danskes konge, sender den højvelbårne mand Rikman v. d. Lancken, høvedsmand på borgen Falsterbo, i sendefærd til os i England, ønsker vi i det anliggende at drage omsorg for denne Rikmans sikkerhed og har taget denne Rikman og hans mænd og svende samt desuden deres heste, harnisker og alt deres andet gods og ejendom under vor særlige beskyttelse og vort særlige værn og har lovet dem vort fulde og sikre lejde, når de af fornævnte grund kommer til vort nævnte rige England — såvel til lands som til vands — opholder sig sammesteds, og når de derefter rejser tilbage til deres hjemland. Og derfor pålægger vi Eder, at I ikke må tilføje eller, såvidt det står til Eder, tillade, at der af andre tilføjes samme Rikman eller hans mænd eller svende nogen uret, fortrædigelse, skade, vold eller nogen beslaglæggelse eller tynge på deres person, på deres heste, harnisker eller andre ejendele, når de som fornævnt kommer til vort fornævnte rige, opholder sig sammesteds, og når de derefter vender tilbage til deres hjemland. Og hvis der bliver forbrudt noget mod dem eller der er sket dem uret, skal I sørge for, at det ufortøvet på tilbørlig vis rettes og gøres dem godt igen. Til vidnesbyrd herom har vi ladet dette vort åbne brev udfærdige, som skal have gyldighed til næstkommende påskedag?”). Med kongen som vidne i Westminster den 4. Januar."
      ]
     },
     "execution_count": 34,
     "metadata": {},
     "output_type": "execute_result"
    }
   ],
   "source": [
    "doc2"
   ]
  },
  {
   "cell_type": "markdown",
   "id": "2fc9830c-7434-4e91-a4fc-c325630f1878",
   "metadata": {},
   "source": [
    "## Ordklasseopmærkning"
   ]
  },
  {
   "cell_type": "code",
   "execution_count": 35,
   "id": "0cb5c99e-f40b-4280-8d09-0b2b77a36acc",
   "metadata": {},
   "outputs": [
    {
     "name": "stdout",
     "output_type": "stream",
     "text": [
      "Johan/PROPN v./PROPN Hameln/PROPN og/CCONJ Johan/PROPN Hoppener/PROPN går/VERB i/ADP borgen/NOUN for/ADP en/DET henvendelse/NOUN fra/ADP staden/NOUN Stralsund/PROPN til/ADP rådmændene/NOUN i/ADP Trelleborg/PROPN angående/ADP Henrik/PROPN Hogedorps/PROPN gods/NOUN ./PUNCT \n",
      "/SYM "
     ]
    }
   ],
   "source": [
    "for token in doc1:\n",
    "    print(f'{token}/{token.pos_}', end=' ')"
   ]
  },
  {
   "cell_type": "code",
   "execution_count": 36,
   "id": "6ee4822c-d87f-490e-bb07-a3015090e576",
   "metadata": {},
   "outputs": [
    {
     "name": "stdout",
     "output_type": "stream",
     "text": [
      "I/PRON skal/AUX vide/VERB ,/PUNCT at/SCONJ da/SCONJ den/DET stormægtige/ADJ fyrste/NOUN Valdemar/PROPN ,/PUNCT de/DET Danskes/ADJ konge/NOUN ,/PUNCT sender/VERB den/DET højvelbårne/ADJ mand/NOUN Rikman/PROPN v./X d./PROPN Lancken/NOUN ,/PUNCT høvedsmand/NOUN på/ADP borgen/NOUN Falsterbo/PROPN ,/PUNCT i/ADP sendefærd/NOUN til/ADP os/PRON i/ADP England/PROPN ,/PUNCT ønsker/VERB vi/PRON i/ADP det/DET anliggende/NOUN at/PART drage/VERB omsorg/NOUN for/ADP denne/DET Rikmans/PROPN sikkerhed/NOUN og/CCONJ har/AUX taget/VERB denne/DET Rikman/PROPN og/CCONJ hans/PRON mænd/NOUN og/CCONJ svende/NOUN samt/CCONJ desuden/ADV deres/DET heste/NOUN ,/PUNCT harnisker/NOUN og/CCONJ alt/ADJ deres/DET andet/DET gods/NOUN og/CCONJ ejendom/NOUN under/ADP vor/DET særlige/ADJ beskyttelse/NOUN og/CCONJ vort/DET særlige/ADJ værn/NOUN og/CCONJ har/AUX lovet/VERB dem/PRON vort/DET fulde/ADJ og/CCONJ sikre/ADJ lejde/NOUN ,/PUNCT når/SCONJ de/PRON af/ADP fornævnte/VERB grund/NOUN kommer/VERB til/ADP vort/DET nævnte/VERB rige/NOUN England/PROPN —/SYM såvel/ADV til/ADP lands/NOUN som/ADP til/ADP vands/NOUN —/SYM opholder/VERB sig/PRON sammesteds/ADJ ,/PUNCT og/CCONJ når/SCONJ de/PRON derefter/ADV rejser/VERB tilbage/ADV til/ADP deres/DET hjemland/NOUN ./PUNCT Og/CCONJ derfor/ADV pålægger/VERB vi/PRON Eder/PRON ,/PUNCT at/SCONJ I/PRON ikke/ADV må/AUX tilføje/VERB eller/CCONJ ,/PUNCT såvidt/ADV det/PRON står/VERB til/ADP Eder/PRON ,/PUNCT tillade/VERB ,/PUNCT at/SCONJ der/ADV af/ADP andre/PRON tilføjes/VERB samme/ADJ Rikman/PROPN eller/CCONJ hans/DET mænd/NOUN eller/CCONJ svende/NOUN nogen/DET uret/NOUN ,/PUNCT fortrædigelse/NOUN ,/PUNCT skade/NOUN ,/PUNCT vold/NOUN eller/CCONJ nogen/DET beslaglæggelse/NOUN eller/CCONJ tynge/NOUN på/ADP deres/DET person/NOUN ,/PUNCT på/ADP deres/DET heste/NOUN ,/PUNCT harnisker/NOUN eller/CCONJ andre/DET ejendele/NOUN ,/PUNCT når/SCONJ de/PRON som/ADP fornævnt/X kommer/VERB til/ADP vort/DET fornævnte/VERB rige/NOUN ,/PUNCT opholder/VERB sig/PRON sammesteds/ADJ ,/PUNCT og/CCONJ når/SCONJ de/PRON derefter/ADV vender/VERB tilbage/ADV til/ADP deres/DET hjemland/NOUN ./PUNCT Og/CCONJ hvis/SCONJ der/ADV bliver/AUX forbrudt/VERB noget/PRON mod/ADP dem/PRON eller/CCONJ der/ADV er/AUX sket/VERB dem/PRON uret/NOUN ,/PUNCT skal/AUX I/ADP sørge/VERB for/ADP ,/PUNCT at/SCONJ det/PRON ufortøvet/ADV på/ADP tilbørlig/ADJ vis/NOUN rettes/VERB og/CCONJ gøres/VERB dem/PRON godt/ADV igen/ADV ./PUNCT Til/ADP vidnesbyrd/NOUN herom/ADV har/AUX vi/PRON ladet/VERB dette/DET vort/DET åbne/ADJ brev/NOUN udfærdige/VERB ,/PUNCT som/PRON skal/AUX have/VERB gyldighed/NOUN til/ADP næstkommende/ADJ påskedag/NOUN ?/PUNCT ”/SYM )/PUNCT ./PUNCT Med/ADP kongen/NOUN som/ADP vidne/NOUN i/ADP Westminster/PROPN den/DET 4./ADJ Januar/NOUN ./PUNCT \n",
      "/SYM "
     ]
    }
   ],
   "source": [
    "for token in doc2:\n",
    "    print(f'{token}/{token.pos_}', end=' ')"
   ]
  },
  {
   "cell_type": "markdown",
   "id": "a87a586a-9cf4-479d-99b1-9cef0e08a733",
   "metadata": {},
   "source": [
    "## \"Named entities\""
   ]
  },
  {
   "cell_type": "code",
   "execution_count": 46,
   "id": "b6475580-d7c1-4ab2-adc7-8367353bb056",
   "metadata": {},
   "outputs": [
    {
     "data": {
      "text/html": [
       "<span class=\"tex2jax_ignore\"><div class=\"entities\" style=\"line-height: 2.5; direction: ltr\">\n",
       "<mark class=\"entity\" style=\"background: #ddd; padding: 0.45em 0.6em; margin: 0 0.25em; line-height: 1; border-radius: 0.35em;\">\n",
       "    Johan v. Hameln\n",
       "    <span style=\"font-size: 0.8em; font-weight: bold; line-height: 1; border-radius: 0.35em; vertical-align: middle; margin-left: 0.5rem\">PER</span>\n",
       "</mark>\n",
       " og \n",
       "<mark class=\"entity\" style=\"background: #ddd; padding: 0.45em 0.6em; margin: 0 0.25em; line-height: 1; border-radius: 0.35em;\">\n",
       "    Johan Hoppener\n",
       "    <span style=\"font-size: 0.8em; font-weight: bold; line-height: 1; border-radius: 0.35em; vertical-align: middle; margin-left: 0.5rem\">PER</span>\n",
       "</mark>\n",
       " går i borgen for en henvendelse fra staden \n",
       "<mark class=\"entity\" style=\"background: #ff9561; padding: 0.45em 0.6em; margin: 0 0.25em; line-height: 1; border-radius: 0.35em;\">\n",
       "    Stralsund\n",
       "    <span style=\"font-size: 0.8em; font-weight: bold; line-height: 1; border-radius: 0.35em; vertical-align: middle; margin-left: 0.5rem\">LOC</span>\n",
       "</mark>\n",
       " til rådmændene i \n",
       "<mark class=\"entity\" style=\"background: #ff9561; padding: 0.45em 0.6em; margin: 0 0.25em; line-height: 1; border-radius: 0.35em;\">\n",
       "    Trelleborg\n",
       "    <span style=\"font-size: 0.8em; font-weight: bold; line-height: 1; border-radius: 0.35em; vertical-align: middle; margin-left: 0.5rem\">LOC</span>\n",
       "</mark>\n",
       " angående \n",
       "<mark class=\"entity\" style=\"background: #ddd; padding: 0.45em 0.6em; margin: 0 0.25em; line-height: 1; border-radius: 0.35em;\">\n",
       "    Henrik Hogedorps\n",
       "    <span style=\"font-size: 0.8em; font-weight: bold; line-height: 1; border-radius: 0.35em; vertical-align: middle; margin-left: 0.5rem\">PER</span>\n",
       "</mark>\n",
       " gods.</br></div></span>"
      ],
      "text/plain": [
       "<IPython.core.display.HTML object>"
      ]
     },
     "metadata": {},
     "output_type": "display_data"
    }
   ],
   "source": [
    "displacy.render(doc1, style=\"ent\", jupyter=True)"
   ]
  },
  {
   "cell_type": "code",
   "execution_count": 39,
   "id": "35532698-ff7c-4557-a5d0-df3d736e855c",
   "metadata": {},
   "outputs": [
    {
     "data": {
      "text/html": [
       "<span class=\"tex2jax_ignore\"><div class=\"entities\" style=\"line-height: 2.5; direction: ltr\">I skal vide, at da den stormægtige fyrste \n",
       "<mark class=\"entity\" style=\"background: #ddd; padding: 0.45em 0.6em; margin: 0 0.25em; line-height: 1; border-radius: 0.35em;\">\n",
       "    Valdemar\n",
       "    <span style=\"font-size: 0.8em; font-weight: bold; line-height: 1; border-radius: 0.35em; vertical-align: middle; margin-left: 0.5rem\">PER</span>\n",
       "</mark>\n",
       ", \n",
       "<mark class=\"entity\" style=\"background: #ff9561; padding: 0.45em 0.6em; margin: 0 0.25em; line-height: 1; border-radius: 0.35em;\">\n",
       "    de Danskes konge\n",
       "    <span style=\"font-size: 0.8em; font-weight: bold; line-height: 1; border-radius: 0.35em; vertical-align: middle; margin-left: 0.5rem\">LOC</span>\n",
       "</mark>\n",
       ", sender den højvelbårne mand \n",
       "<mark class=\"entity\" style=\"background: #ddd; padding: 0.45em 0.6em; margin: 0 0.25em; line-height: 1; border-radius: 0.35em;\">\n",
       "    Rikman\n",
       "    <span style=\"font-size: 0.8em; font-weight: bold; line-height: 1; border-radius: 0.35em; vertical-align: middle; margin-left: 0.5rem\">PER</span>\n",
       "</mark>\n",
       " \n",
       "<mark class=\"entity\" style=\"background: #ddd; padding: 0.45em 0.6em; margin: 0 0.25em; line-height: 1; border-radius: 0.35em;\">\n",
       "    v. d. Lancken\n",
       "    <span style=\"font-size: 0.8em; font-weight: bold; line-height: 1; border-radius: 0.35em; vertical-align: middle; margin-left: 0.5rem\">MISC</span>\n",
       "</mark>\n",
       ", høvedsmand på borgen \n",
       "<mark class=\"entity\" style=\"background: #ff9561; padding: 0.45em 0.6em; margin: 0 0.25em; line-height: 1; border-radius: 0.35em;\">\n",
       "    Falsterbo\n",
       "    <span style=\"font-size: 0.8em; font-weight: bold; line-height: 1; border-radius: 0.35em; vertical-align: middle; margin-left: 0.5rem\">LOC</span>\n",
       "</mark>\n",
       ", i sendefærd til os i \n",
       "<mark class=\"entity\" style=\"background: #ff9561; padding: 0.45em 0.6em; margin: 0 0.25em; line-height: 1; border-radius: 0.35em;\">\n",
       "    England\n",
       "    <span style=\"font-size: 0.8em; font-weight: bold; line-height: 1; border-radius: 0.35em; vertical-align: middle; margin-left: 0.5rem\">LOC</span>\n",
       "</mark>\n",
       ", ønsker vi i det anliggende at drage omsorg for denne \n",
       "<mark class=\"entity\" style=\"background: #ddd; padding: 0.45em 0.6em; margin: 0 0.25em; line-height: 1; border-radius: 0.35em;\">\n",
       "    Rikmans\n",
       "    <span style=\"font-size: 0.8em; font-weight: bold; line-height: 1; border-radius: 0.35em; vertical-align: middle; margin-left: 0.5rem\">PER</span>\n",
       "</mark>\n",
       " sikkerhed og har taget denne \n",
       "<mark class=\"entity\" style=\"background: #ddd; padding: 0.45em 0.6em; margin: 0 0.25em; line-height: 1; border-radius: 0.35em;\">\n",
       "    Rikman\n",
       "    <span style=\"font-size: 0.8em; font-weight: bold; line-height: 1; border-radius: 0.35em; vertical-align: middle; margin-left: 0.5rem\">PER</span>\n",
       "</mark>\n",
       " og hans mænd og svende samt desuden deres heste, \n",
       "<mark class=\"entity\" style=\"background: #ddd; padding: 0.45em 0.6em; margin: 0 0.25em; line-height: 1; border-radius: 0.35em;\">\n",
       "    harnisker\n",
       "    <span style=\"font-size: 0.8em; font-weight: bold; line-height: 1; border-radius: 0.35em; vertical-align: middle; margin-left: 0.5rem\">MISC</span>\n",
       "</mark>\n",
       " og alt deres andet gods og ejendom under vor særlige beskyttelse og vort særlige værn og har lovet dem vort fulde og sikre lejde, når de af fornævnte grund kommer til vort nævnte rige \n",
       "<mark class=\"entity\" style=\"background: #ff9561; padding: 0.45em 0.6em; margin: 0 0.25em; line-height: 1; border-radius: 0.35em;\">\n",
       "    England\n",
       "    <span style=\"font-size: 0.8em; font-weight: bold; line-height: 1; border-radius: 0.35em; vertical-align: middle; margin-left: 0.5rem\">LOC</span>\n",
       "</mark>\n",
       " — såvel til lands som til vands — opholder sig sammesteds, og når de derefter rejser tilbage til deres hjemland. Og derfor pålægger vi Eder, at I ikke må tilføje eller, såvidt det står til Eder, tillade, at der af andre tilføjes samme \n",
       "<mark class=\"entity\" style=\"background: #ddd; padding: 0.45em 0.6em; margin: 0 0.25em; line-height: 1; border-radius: 0.35em;\">\n",
       "    Rikman\n",
       "    <span style=\"font-size: 0.8em; font-weight: bold; line-height: 1; border-radius: 0.35em; vertical-align: middle; margin-left: 0.5rem\">PER</span>\n",
       "</mark>\n",
       " eller hans mænd eller svende nogen uret, fortrædigelse, skade, vold eller nogen beslaglæggelse eller tynge på deres person, på deres heste, harnisker eller andre ejendele, når de som fornævnt kommer til vort fornævnte rige, opholder sig sammesteds, og når de derefter vender tilbage til deres hjemland. Og hvis der bliver forbrudt noget mod dem eller der er sket dem uret, skal I sørge for, at det ufortøvet på tilbørlig vis rettes og gøres dem godt igen. Til vidnesbyrd herom har vi ladet dette vort åbne brev udfærdige, som skal have gyldighed til næstkommende påskedag?”). Med kongen som vidne i \n",
       "<mark class=\"entity\" style=\"background: #ff9561; padding: 0.45em 0.6em; margin: 0 0.25em; line-height: 1; border-radius: 0.35em;\">\n",
       "    Westminster\n",
       "    <span style=\"font-size: 0.8em; font-weight: bold; line-height: 1; border-radius: 0.35em; vertical-align: middle; margin-left: 0.5rem\">LOC</span>\n",
       "</mark>\n",
       " den 4. Januar.</br></div></span>"
      ],
      "text/plain": [
       "<IPython.core.display.HTML object>"
      ]
     },
     "metadata": {},
     "output_type": "display_data"
    }
   ],
   "source": [
    "displacy.render(doc2, style=\"ent\")"
   ]
  },
  {
   "cell_type": "markdown",
   "id": "86c46ad0-5d58-4ba9-bc3b-178fe201871e",
   "metadata": {},
   "source": [
    "## Lemmatisering"
   ]
  },
  {
   "cell_type": "code",
   "execution_count": 43,
   "id": "ce99d098-6fff-4c39-b21b-52ad3aead80d",
   "metadata": {},
   "outputs": [
    {
     "name": "stdout",
     "output_type": "stream",
     "text": [
      "Johan|Johan v.|v. Hameln|Hameln og|og Johan|Johan Hoppener|Hoppener går|gå i|i borgen|borg for|for en|en henvendelse|henvendelse fra|fra staden|stad Stralsund|Stralsund til|til rådmændene|rådmand i|i Trelleborg|Trelleborg angående|angå Henrik|Henrik Hogedorps|Hogedorps gods|gods .|. \n",
      "|\n",
      " "
     ]
    }
   ],
   "source": [
    "for token in doc1:\n",
    "    print(f'{token}|{token.lemma_}', end=' ')"
   ]
  },
  {
   "cell_type": "code",
   "execution_count": 44,
   "id": "004162ac-dca7-4906-9725-87a43c6496f5",
   "metadata": {},
   "outputs": [
    {
     "name": "stdout",
     "output_type": "stream",
     "text": [
      "I|I skal|skulle vide|vide ,|, at|at da|da den|den stormægtige|stormægtig fyrste|fyrste Valdemar|Valdemar ,|, de|de Danskes|Danskes konge|konge ,|, sender|sende den|den højvelbårne|højvelbårne mand|mand Rikman|Rikman v.|v. d.|d. Lancken|Lancken ,|, høvedsmand|høvedsmand på|på borgen|borg Falsterbo|Falsterbo ,|, i|i sendefærd|sendefærd til|til os|vi i|i England|England ,|, ønsker|ønske vi|vi i|i det|det anliggende|anliggende at|at drage|drage omsorg|omsorg for|for denne|denne Rikmans|Rikmans sikkerhed|sikkerhed og|og har|have taget|tag denne|denne Rikman|Rikman og|og hans|hans mænd|mand og|og svende|svend samt|samt desuden|desuden deres|deres heste|hest ,|, harnisker|harnisk og|og alt|alt deres|deres andet|anden gods|gods og|og ejendom|ejendom under|unde vor|vor særlige|særlig beskyttelse|beskyttelse og|og vort|vor særlige|særlig værn|værn og|og har|have lovet|love dem|de vort|vor fulde|fuld og|og sikre|sikre lejde|lejde ,|, når|nå de|de af|af fornævnte|fornævnte grund|grund kommer|komme til|til vort|vor nævnte|nævne rige|rige England|England —|— såvel|såvel til|til lands|land som|som til|til vands|vand —|— opholder|opholde sig|sig sammesteds|sammesteds ,|, og|og når|nå de|de derefter|derefter rejser|rejse tilbage|tilbage til|til deres|deres hjemland|hjemland .|. Og|Og derfor|derfor pålægger|pålægge vi|vi Eder|Eder ,|, at|at I|I ikke|ikke må|måtte tilføje|tilføje eller|eller ,|, såvidt|såvidt det|det står|stå til|til Eder|Eder ,|, tillade|tillade ,|, at|at der|der af|af andre|anden tilføjes|tilføje samme|samme Rikman|Rikman eller|eller hans|hans mænd|mand eller|eller svende|svend nogen|nogen uret|ur ,|, fortrædigelse|fortrædigelse ,|, skade|skade ,|, vold|vold eller|eller nogen|nogen beslaglæggelse|beslaglæggelse eller|eller tynge|tynge på|på deres|deres person|person ,|, på|på deres|deres heste|hest ,|, harnisker|harnisk eller|eller andre|anden ejendele|ejendel ,|, når|nå de|de som|som fornævnt|fornævnt kommer|komme til|til vort|vor fornævnte|fornævnte rige|rige ,|, opholder|opholde sig|sig sammesteds|sammesteds ,|, og|og når|nå de|de derefter|derefter vender|vende tilbage|tilbage til|til deres|deres hjemland|hjemland .|. Og|Og hvis|hvis der|der bliver|blive forbrudt|forbryde noget|nogen mod|mod dem|de eller|eller der|der er|være sket|ske dem|de uret|ur ,|, skal|skulle I|I sørge|sørge for|for ,|, at|at det|det ufortøvet|ufortøvet på|på tilbørlig|tilbørlig vis|vi rettes|rette og|og gøres|gøre dem|de godt|godte igen|igen .|. Til|Til vidnesbyrd|vidnesbyrd herom|herom har|have vi|vi ladet|lad dette|denne vort|vor åbne|åbne brev|brev udfærdige|udfærdige ,|, som|som skal|skulle have|hav gyldighed|gyldighed til|til næstkommende|næstkommende påskedag|påskedag ?|? ”|” )|) .|. Med|Med kongen|konge som|som vidne|vidne i|i Westminster|Westminster den|den 4.|4. Januar|Januar .|. \n",
      "|\n",
      " "
     ]
    }
   ],
   "source": [
    "for token in doc2:\n",
    "    print(f'{token}|{token.lemma_}', end=' ')"
   ]
  },
  {
   "cell_type": "code",
   "execution_count": 47,
   "id": "db45e6f3-90e2-4208-9749-ff1ed13f3e15",
   "metadata": {},
   "outputs": [
    {
     "ename": "ValueError",
     "evalue": "[E087] Unknown displaCy style: pos_.",
     "output_type": "error",
     "traceback": [
      "\u001b[0;31m---------------------------------------------------------------------------\u001b[0m",
      "\u001b[0;31mValueError\u001b[0m                                Traceback (most recent call last)",
      "Input \u001b[0;32mIn [47]\u001b[0m, in \u001b[0;36m<cell line: 1>\u001b[0;34m()\u001b[0m\n\u001b[0;32m----> 1\u001b[0m \u001b[43mdisplacy\u001b[49m\u001b[38;5;241;43m.\u001b[39;49m\u001b[43mrender\u001b[49m\u001b[43m(\u001b[49m\u001b[43mdoc1\u001b[49m\u001b[43m,\u001b[49m\u001b[43m \u001b[49m\u001b[43mstyle\u001b[49m\u001b[38;5;241;43m=\u001b[39;49m\u001b[38;5;124;43m\"\u001b[39;49m\u001b[38;5;124;43mpos_\u001b[39;49m\u001b[38;5;124;43m\"\u001b[39;49m\u001b[43m)\u001b[49m\n",
      "File \u001b[0;32m~/miniconda3/envs/env_dacy/lib/python3.9/site-packages/spacy/displacy/__init__.py:49\u001b[0m, in \u001b[0;36mrender\u001b[0;34m(docs, style, page, minify, jupyter, options, manual)\u001b[0m\n\u001b[1;32m     44\u001b[0m factories \u001b[38;5;241m=\u001b[39m {\n\u001b[1;32m     45\u001b[0m     \u001b[38;5;124m\"\u001b[39m\u001b[38;5;124mdep\u001b[39m\u001b[38;5;124m\"\u001b[39m: (DependencyRenderer, parse_deps),\n\u001b[1;32m     46\u001b[0m     \u001b[38;5;124m\"\u001b[39m\u001b[38;5;124ment\u001b[39m\u001b[38;5;124m\"\u001b[39m: (EntityRenderer, parse_ents),\n\u001b[1;32m     47\u001b[0m }\n\u001b[1;32m     48\u001b[0m \u001b[38;5;28;01mif\u001b[39;00m style \u001b[38;5;129;01mnot\u001b[39;00m \u001b[38;5;129;01min\u001b[39;00m factories:\n\u001b[0;32m---> 49\u001b[0m     \u001b[38;5;28;01mraise\u001b[39;00m \u001b[38;5;167;01mValueError\u001b[39;00m(Errors\u001b[38;5;241m.\u001b[39mE087\u001b[38;5;241m.\u001b[39mformat(style\u001b[38;5;241m=\u001b[39mstyle))\n\u001b[1;32m     50\u001b[0m \u001b[38;5;28;01mif\u001b[39;00m \u001b[38;5;28misinstance\u001b[39m(docs, (Doc, Span, \u001b[38;5;28mdict\u001b[39m)):\n\u001b[1;32m     51\u001b[0m     docs \u001b[38;5;241m=\u001b[39m [docs]\n",
      "\u001b[0;31mValueError\u001b[0m: [E087] Unknown displaCy style: pos_."
     ]
    }
   ],
   "source": []
  },
  {
   "cell_type": "code",
   "execution_count": null,
   "id": "32a05dc4-9d68-4a14-8853-bcf74d0d5b27",
   "metadata": {},
   "outputs": [],
   "source": []
  }
 ],
 "metadata": {
  "kernelspec": {
   "display_name": "Python [conda env:env_dacy] *",
   "language": "python",
   "name": "conda-env-env_dacy-py"
  },
  "language_info": {
   "codemirror_mode": {
    "name": "ipython",
    "version": 3
   },
   "file_extension": ".py",
   "mimetype": "text/x-python",
   "name": "python",
   "nbconvert_exporter": "python",
   "pygments_lexer": "ipython3",
   "version": "3.9.7"
  }
 },
 "nbformat": 4,
 "nbformat_minor": 5
}
